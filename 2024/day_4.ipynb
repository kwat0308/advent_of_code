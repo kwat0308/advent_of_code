{
 "cells": [
  {
   "cell_type": "code",
   "execution_count": 1,
   "metadata": {},
   "outputs": [],
   "source": [
    "import numpy as np"
   ]
  },
  {
   "cell_type": "code",
   "execution_count": 2,
   "metadata": {},
   "outputs": [],
   "source": [
    "with open(\"./data/input_day4.txt\", \"r\") as f:\n",
    "    xmas_txts = f.readlines()"
   ]
  },
  {
   "cell_type": "code",
   "execution_count": 3,
   "metadata": {},
   "outputs": [],
   "source": [
    "# remap XMAS to 0123\n",
    "xmas_mat = np.zeros((len(xmas_txts), len(xmas_txts[0])-1))\n",
    "\n",
    "\n",
    "for i, xmax_txt in enumerate(xmas_txts):\n",
    "\n",
    "    xmax_txt = xmax_txt.removesuffix('\\n')\n",
    "\n",
    "    for inum, s in enumerate(['X', 'M', \"A\", \"S\"]):\n",
    "        xmax_txt = xmax_txt.replace(s, str(2 * (inum + 1)))\n",
    "\n",
    "    xmax_txt = \" \".join(xmax_txt)\n",
    "\n",
    "    xmas_mat[i,:] = np.array(xmax_txt.split())"
   ]
  },
  {
   "cell_type": "markdown",
   "metadata": {},
   "source": [
    "First rotate the matrix 90 degrees each time. then find where the ordering [2,4,6,8] matches for each row vector"
   ]
  },
  {
   "cell_type": "code",
   "execution_count": 4,
   "metadata": {},
   "outputs": [
    {
     "name": "stdout",
     "output_type": "stream",
     "text": [
      "223\n",
      "219\n",
      "198\n"
     ]
    }
   ],
   "source": [
    "\n",
    "xmas_num = 0\n",
    "\n",
    "for i_rot90 in range(3):\n",
    "\n",
    "    xmas_mat_rot = np.rot90(xmas_mat, k=i_rot90)\n",
    "\n",
    "    xmas_tmp = 0\n",
    "    for xmas_vec in xmas_mat_rot:\n",
    "        # find where we have 2, which is where X is\n",
    "        X_indices = np.argwhere(xmas_vec == 2)[:,0]\n",
    "\n",
    "        for X_idx in X_indices:\n",
    "            \n",
    "            # skip where the index is > len(xmas_vec)-4\n",
    "            # since that can never be accessed\n",
    "            if X_idx > len(xmas_vec)-4:\n",
    "                continue\n",
    "            # find where we can find [XMAS] in that exact order\n",
    "            # # if so then we count it as a xmas number\n",
    "            if np.all(np.isclose(np.array([2,4,6,8]), xmas_vec[X_idx:X_idx+4])):\n",
    "                xmas_num += 1\n",
    "                xmas_tmp += 1\n",
    "\n",
    "    print(xmas_tmp)"
   ]
  },
  {
   "cell_type": "markdown",
   "metadata": {},
   "source": [
    "now do the same but getting for the diagonals instead"
   ]
  },
  {
   "cell_type": "code",
   "execution_count": 5,
   "metadata": {},
   "outputs": [],
   "source": [
    "n_diags = 2 * len(xmas_mat)"
   ]
  },
  {
   "cell_type": "code",
   "execution_count": 6,
   "metadata": {},
   "outputs": [
    {
     "name": "stdout",
     "output_type": "stream",
     "text": [
      "378\n"
     ]
    }
   ],
   "source": [
    "xmas_tmp = 0\n",
    "for offset_num in range(-n_diags//2, n_diags//2+1, 1):\n",
    "    \n",
    "    xmas_vec_diag = np.diagonal(xmas_mat, offset=offset_num)\n",
    "    # find where we have 2, which is where X is\n",
    "    X_indices = np.argwhere(xmas_vec_diag == 2)[:,0]\n",
    "\n",
    "    for X_idx in X_indices:\n",
    "        \n",
    "        # skip where the index is > len(xmas_vec)-4\n",
    "        # since that can never be accessed\n",
    "        if X_idx > len(xmas_vec_diag)-4:\n",
    "            continue\n",
    "        # find where we can find [XMAS] in that exact order\n",
    "        # # if so then we count it as a xmas number\n",
    "        if np.all(np.isclose(np.array([2,4,6,8]), xmas_vec_diag[X_idx:X_idx+4])):\n",
    "            xmas_num += 1\n",
    "            xmas_tmp += 1\n",
    "print(xmas_tmp)"
   ]
  },
  {
   "cell_type": "code",
   "execution_count": 7,
   "metadata": {},
   "outputs": [
    {
     "name": "stdout",
     "output_type": "stream",
     "text": [
      "395\n"
     ]
    }
   ],
   "source": [
    "xmas_tmp = 0\n",
    "for offset_num in range(-n_diags//2, n_diags//2+1):\n",
    "\n",
    "    xmas_vec_diag = np.diagonal(np.fliplr(xmas_mat), offset=offset_num)\n",
    "    # find where we have 2, which is where X is\n",
    "    X_indices = np.argwhere(xmas_vec_diag == 2)[:,0]\n",
    "\n",
    "    for X_idx in X_indices:\n",
    "        \n",
    "        # skip where the index is > len(xmas_vec)-4\n",
    "        # since that can never be accessed\n",
    "        if X_idx > len(xmas_vec_diag)-4:\n",
    "            continue\n",
    "        # find where we can find [XMAS] in that exact order\n",
    "        # # if so then we count it as a xmas number\n",
    "        if np.all(np.isclose(np.array([2,4,6,8]), xmas_vec_diag[X_idx:X_idx+4])):\n",
    "            xmas_num += 1\n",
    "            xmas_tmp += 1\n",
    "\n",
    "print(xmas_tmp)"
   ]
  },
  {
   "cell_type": "code",
   "execution_count": 8,
   "metadata": {},
   "outputs": [
    {
     "data": {
      "text/plain": [
       "1413"
      ]
     },
     "execution_count": 8,
     "metadata": {},
     "output_type": "execute_result"
    }
   ],
   "source": [
    "xmas_num"
   ]
  }
 ],
 "metadata": {
  "kernelspec": {
   "display_name": "base",
   "language": "python",
   "name": "python3"
  },
  "language_info": {
   "codemirror_mode": {
    "name": "ipython",
    "version": 3
   },
   "file_extension": ".py",
   "mimetype": "text/x-python",
   "name": "python",
   "nbconvert_exporter": "python",
   "pygments_lexer": "ipython3",
   "version": "3.10.8"
  }
 },
 "nbformat": 4,
 "nbformat_minor": 2
}
