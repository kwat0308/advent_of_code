{
 "cells": [
  {
   "cell_type": "code",
   "execution_count": 68,
   "metadata": {},
   "outputs": [],
   "source": [
    "import numpy as np"
   ]
  },
  {
   "cell_type": "markdown",
   "metadata": {},
   "source": [
    "part 1"
   ]
  },
  {
   "cell_type": "code",
   "execution_count": 69,
   "metadata": {},
   "outputs": [],
   "source": [
    "with open(\"./data/input_day2.txt\", \"r\") as f:\n",
    "    reports = f.readlines()"
   ]
  },
  {
   "cell_type": "code",
   "execution_count": 70,
   "metadata": {},
   "outputs": [],
   "source": [
    "safe_reports = 0\n",
    "\n",
    "for irep, report in enumerate(reports):\n",
    "    # print(irep)\n",
    "    # convert into list of float / int\n",
    "    lvl_list = np.array([float(lvl_str) for lvl_str in report.split(\" \")])\n",
    "\n",
    "    # difference between each event in the list\n",
    "    diff = np.diff(lvl_list)\n",
    "    # the sign, which indicates if its increaseing or decreasing or not\n",
    "    sign_of_diff = np.sign(diff)\n",
    "\n",
    "    # first check to see if increasing / decreasing by at leasat 1\n",
    "    # second check to see if increasing / decreasing by at most 3\n",
    "    # last check to see the sign, which should be the same if its all increasing / decreasing\n",
    "    if np.all(np.abs(diff)) > 0 and np.all(np.abs(diff) < 4) and np.all(sign_of_diff == sign_of_diff[0]):\n",
    "        safe_reports += 1"
   ]
  },
  {
   "cell_type": "code",
   "execution_count": 71,
   "metadata": {},
   "outputs": [
    {
     "name": "stdout",
     "output_type": "stream",
     "text": [
      "Total number of safe reports: 663\n"
     ]
    }
   ],
   "source": [
    "print(f\"Total number of safe reports: {safe_reports}\")"
   ]
  }
 ],
 "metadata": {
  "kernelspec": {
   "display_name": "base",
   "language": "python",
   "name": "python3"
  },
  "language_info": {
   "codemirror_mode": {
    "name": "ipython",
    "version": 3
   },
   "file_extension": ".py",
   "mimetype": "text/x-python",
   "name": "python",
   "nbconvert_exporter": "python",
   "pygments_lexer": "ipython3",
   "version": "3.10.8"
  }
 },
 "nbformat": 4,
 "nbformat_minor": 2
}
