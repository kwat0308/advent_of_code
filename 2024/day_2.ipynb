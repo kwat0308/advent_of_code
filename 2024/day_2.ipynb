{
 "cells": [
  {
   "cell_type": "code",
   "execution_count": 1,
   "metadata": {},
   "outputs": [],
   "source": [
    "import numpy as np"
   ]
  },
  {
   "cell_type": "markdown",
   "metadata": {},
   "source": [
    "part 1"
   ]
  },
  {
   "cell_type": "code",
   "execution_count": 2,
   "metadata": {},
   "outputs": [],
   "source": [
    "with open(\"./data/input_day2.txt\", \"r\") as f:\n",
    "    reports = f.readlines()"
   ]
  },
  {
   "cell_type": "code",
   "execution_count": 3,
   "metadata": {},
   "outputs": [],
   "source": [
    "safe_reports = 0\n",
    "\n",
    "for irep, report in enumerate(reports):\n",
    "    # print(irep)\n",
    "    # convert into list of float / int\n",
    "    lvl_list = [float(lvl_str) for lvl_str in report.split(\" \")]\n",
    "\n",
    "    # difference between each event in the list\n",
    "    diff = np.diff(lvl_list)\n",
    "    # the sign, which indicates if its increaseing or decreasing or not\n",
    "    sign_of_diff = np.sign(diff)\n",
    "\n",
    "    # first check to see if increasing / decreasing by at leasat 1\n",
    "    # second check to see if increasing / decreasing by at most 3\n",
    "    # last check to see the sign, which should be the same if its all increasing / decreasing\n",
    "    if np.all(np.abs(diff) > 0) and np.all(np.abs(diff) < 4) and np.all(sign_of_diff == sign_of_diff[0]):\n",
    "        safe_reports += 1"
   ]
  },
  {
   "cell_type": "code",
   "execution_count": 4,
   "metadata": {},
   "outputs": [
    {
     "name": "stdout",
     "output_type": "stream",
     "text": [
      "Total number of safe reports: 663\n"
     ]
    }
   ],
   "source": [
    "print(f\"Total number of safe reports: {safe_reports}\")"
   ]
  },
  {
   "cell_type": "markdown",
   "metadata": {},
   "source": [
    "part 2"
   ]
  },
  {
   "cell_type": "code",
   "execution_count": 5,
   "metadata": {},
   "outputs": [],
   "source": [
    "def check_if_safe(levels):\n",
    "    \"\"\"\n",
    "    Check if the level is safe or not.\n",
    "    \n",
    "    Parameter:\n",
    "    ----------\n",
    "    levels : np.ndarray\n",
    "        an array of levels for each report.\n",
    "    \"\"\"\n",
    "    # difference between each event in the list\n",
    "    diff = np.diff(levels)\n",
    "    # the sign, which indicates if its increaseing or decreasing or not\n",
    "    sign_of_diff = np.sign(diff)\n",
    "\n",
    "    # return the check conditiions\n",
    "    return np.all(np.abs(diff) > 0) and np.all(np.abs(diff) < 4) and np.all(sign_of_diff == sign_of_diff[0])"
   ]
  },
  {
   "cell_type": "code",
   "execution_count": 27,
   "metadata": {},
   "outputs": [],
   "source": [
    "safe_reports = 0\n",
    "safe_reports_after_damp = 0\n",
    "\n",
    "for irep, report_str in enumerate(reports):\n",
    "    # print(irep)\n",
    "    # convert into list of float / int\n",
    "    lvls = np.array([float(lvl_str) for lvl_str in report_str.split(\" \")])\n",
    "\n",
    "    # first check if the report is safe or not\n",
    "    if check_if_safe(lvls):\n",
    "        safe_reports += 1\n",
    "        safe_reports_after_damp += 1\n",
    "    else:\n",
    "        # otherwise, remove a single point and add to safe reports after dampening\n",
    "\n",
    "        for lvl_idx in range(len(lvls)):\n",
    "            tmp_lvls = np.delete(lvls, lvl_idx)\n",
    "            if check_if_safe(tmp_lvls):\n",
    "                safe_reports_after_damp += 1\n",
    "                break\n"
   ]
  },
  {
   "cell_type": "code",
   "execution_count": 29,
   "metadata": {},
   "outputs": [
    {
     "name": "stdout",
     "output_type": "stream",
     "text": [
      "Total number of safe reports: 663\n",
      "Total number of safe reports after damping: 692\n"
     ]
    }
   ],
   "source": [
    "print(f\"Total number of safe reports: {safe_reports}\")\n",
    "print(f\"Total number of safe reports after damping: {safe_reports_after_damp}\")"
   ]
  }
 ],
 "metadata": {
  "kernelspec": {
   "display_name": "base",
   "language": "python",
   "name": "python3"
  },
  "language_info": {
   "codemirror_mode": {
    "name": "ipython",
    "version": 3
   },
   "file_extension": ".py",
   "mimetype": "text/x-python",
   "name": "python",
   "nbconvert_exporter": "python",
   "pygments_lexer": "ipython3",
   "version": "3.10.8"
  }
 },
 "nbformat": 4,
 "nbformat_minor": 2
}
