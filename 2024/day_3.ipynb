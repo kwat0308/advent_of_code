{
 "cells": [
  {
   "cell_type": "code",
   "execution_count": 1,
   "metadata": {},
   "outputs": [],
   "source": [
    "import numpy as np\n",
    "\n",
    "with open(\"./data/input_day3.txt\", \"r\") as f:\n",
    "    corrupted_txt = f.read()"
   ]
  },
  {
   "cell_type": "code",
   "execution_count": 2,
   "metadata": {},
   "outputs": [],
   "source": [
    "# first identify where there is mul\n",
    "mul_sep_txts = corrupted_txt.split(\"mul(\")\n",
    "\n",
    "sum_of_muls = 0\n",
    "\n",
    "for mul_sep_txt in mul_sep_txts:\n",
    "    # further split based on the end bracket\n",
    "    brac_sep_txt = mul_sep_txt.split(')')\n",
    "    mul_nums = brac_sep_txt[0]  # first element should be the numbers\n",
    "\n",
    "    # further split it again via commas\n",
    "    # and further check if the length is 2 to make sure we have 2 numbers\n",
    "    if len(mul_nums.split(\",\")) == 2:\n",
    "        \n",
    "        # now try to typecast both numbers, and ignore if the typecasting fails\n",
    "        try:\n",
    "            val1, val2 = tuple(int(val_str) for val_str in mul_nums.split(','))\n",
    "        except ValueError:\n",
    "            continue\n",
    "        # finally add the multiplication between the two numbers\n",
    "        sum_of_muls += val1 * val2"
   ]
  },
  {
   "cell_type": "code",
   "execution_count": 3,
   "metadata": {},
   "outputs": [
    {
     "name": "stdout",
     "output_type": "stream",
     "text": [
      "Sum of multiplication of all numbers in corrupt file: 179571322\n"
     ]
    }
   ],
   "source": [
    "print(f\"Sum of multiplication of all numbers in corrupt file: {sum_of_muls}\")"
   ]
  },
  {
   "cell_type": "markdown",
   "metadata": {},
   "source": [
    "part 2"
   ]
  },
  {
   "cell_type": "code",
   "execution_count": 4,
   "metadata": {},
   "outputs": [],
   "source": [
    "# first identify where there is mul\n",
    "mul_sep_txts = corrupted_txt.split(\"mul(\")\n",
    "\n",
    "sum_of_muls_dodont = 0\n",
    "\n",
    "# initially set to true\n",
    "do_include = True\n",
    "for mul_sep_txt in mul_sep_txts:\n",
    "    \n",
    "    # further split based on the end bracket\n",
    "    brac_sep_txt = mul_sep_txt.split(')')\n",
    "    mul_nums = brac_sep_txt[0]  # first element should be the numbers\n",
    "\n",
    "    # further split it again via commas\n",
    "    # and further check if the length is 2 to make sure we have 2 numbers\n",
    "    if len(mul_nums.split(\",\")) == 2:\n",
    "        \n",
    "        # now try to typecast both numbers, and ignore if the typecasting fails\n",
    "        try:\n",
    "            val1, val2 = tuple(int(val_str) for val_str in mul_nums.split(','))\n",
    "        except ValueError:\n",
    "            continue\n",
    "        # finally add the multiplication between the two numbers\n",
    "        # only if the do switch is included\n",
    "        if do_include:\n",
    "            sum_of_muls_dodont += val1 * val2\n",
    "\n",
    "    # check if do or dont is included\n",
    "    # otherwise pass until switch it found\n",
    "    if mul_sep_txt.find(\"don't()\") > 0:\n",
    "        do_include = False\n",
    "    elif mul_sep_txt.find(\"do()\") > 0:\n",
    "        do_include = True\n",
    "    else:\n",
    "        pass"
   ]
  },
  {
   "cell_type": "code",
   "execution_count": 5,
   "metadata": {},
   "outputs": [
    {
     "name": "stdout",
     "output_type": "stream",
     "text": [
      "Sum of multiplication of all numbers in corrupt file with enabling: 103811193\n"
     ]
    }
   ],
   "source": [
    "print(f\"Sum of multiplication of all numbers in corrupt file with enabling: {sum_of_muls_dodont}\")"
   ]
  }
 ],
 "metadata": {
  "kernelspec": {
   "display_name": "base",
   "language": "python",
   "name": "python3"
  },
  "language_info": {
   "codemirror_mode": {
    "name": "ipython",
    "version": 3
   },
   "file_extension": ".py",
   "mimetype": "text/x-python",
   "name": "python",
   "nbconvert_exporter": "python",
   "pygments_lexer": "ipython3",
   "version": "3.10.8"
  }
 },
 "nbformat": 4,
 "nbformat_minor": 2
}
